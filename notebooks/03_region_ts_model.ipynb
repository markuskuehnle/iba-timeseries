{
 "cells": [
  {
   "cell_type": "code",
   "execution_count": null,
   "metadata": {},
   "outputs": [
    {
     "name": "stderr",
     "output_type": "stream",
     "text": [
      "[I 2025-04-23 22:13:49,035] A new study created in memory with name: no-name-3f966a6d-45b7-495c-9ec9-9ae382d8c5b8\n"
     ]
    },
    {
     "name": "stdout",
     "output_type": "stream",
     "text": [
      "\n",
      "=== Region: Region M-O ===\n"
     ]
    },
    {
     "data": {
      "application/vnd.jupyter.widget-view+json": {
       "model_id": "c5c08394ac25438ea061e4e60e7aa5df",
       "version_major": 2,
       "version_minor": 0
      },
      "text/plain": [
       "  0%|          | 0/30 [00:00<?, ?it/s]"
      ]
     },
     "metadata": {},
     "output_type": "display_data"
    },
    {
     "name": "stdout",
     "output_type": "stream",
     "text": [
      "[I 2025-04-23 22:13:50,407] Trial 0 finished with value: 71.1763483177249 and parameters: {'max_depth': 4, 'learning_rate': 0.12435220487508022, 'subsample': 0.6481261176436195, 'colsample_bytree': 0.593551792221262, 'n_estimators': 331}. Best is trial 0 with value: 71.1763483177249.\n",
      "[I 2025-04-23 22:13:52,793] Trial 1 finished with value: 37.7029029256166 and parameters: {'max_depth': 5, 'learning_rate': 0.16118836888220672, 'subsample': 0.5500304863988297, 'colsample_bytree': 0.5442823770928287, 'n_estimators': 478}. Best is trial 1 with value: 37.7029029256166.\n",
      "[I 2025-04-23 22:13:55,135] Trial 2 finished with value: 29.14291957857093 and parameters: {'max_depth': 9, 'learning_rate': 0.013629520369023035, 'subsample': 0.8975655349190854, 'colsample_bytree': 0.7671195993281514, 'n_estimators': 320}. Best is trial 2 with value: 29.14291957857093.\n",
      "[I 2025-04-23 22:13:56,065] Trial 3 finished with value: 35.69146612069298 and parameters: {'max_depth': 5, 'learning_rate': 0.07427995942408953, 'subsample': 0.8157553549161038, 'colsample_bytree': 0.9960410711744621, 'n_estimators': 190}. Best is trial 2 with value: 29.14291957857093.\n",
      "[I 2025-04-23 22:13:57,752] Trial 4 finished with value: 37.944131449139455 and parameters: {'max_depth': 7, 'learning_rate': 0.02140476686398781, 'subsample': 0.8282068387656705, 'colsample_bytree': 0.6762008374301325, 'n_estimators': 262}. Best is trial 2 with value: 29.14291957857093.\n",
      "[I 2025-04-23 22:14:00,016] Trial 5 finished with value: 30.320133135322873 and parameters: {'max_depth': 7, 'learning_rate': 0.29986751468963835, 'subsample': 0.8413797648628525, 'colsample_bytree': 0.6235819814827657, 'n_estimators': 348}. Best is trial 2 with value: 29.14291957857093.\n",
      "[I 2025-04-23 22:14:01,448] Trial 6 finished with value: 51.58901911324796 and parameters: {'max_depth': 10, 'learning_rate': 0.010376499925812143, 'subsample': 0.7367389354269942, 'colsample_bytree': 0.8802511731351949, 'n_estimators': 218}. Best is trial 2 with value: 29.14291957857093.\n",
      "[I 2025-04-23 22:14:02,534] Trial 7 finished with value: 24.31077269245627 and parameters: {'max_depth': 3, 'learning_rate': 0.21926519625914548, 'subsample': 0.9120747003811616, 'colsample_bytree': 0.7510257310631834, 'n_estimators': 345}. Best is trial 7 with value: 24.31077269245627.\n",
      "[I 2025-04-23 22:14:03,619] Trial 8 finished with value: 87.8107930177079 and parameters: {'max_depth': 7, 'learning_rate': 0.029336131049036533, 'subsample': 0.5754069511925295, 'colsample_bytree': 0.5947421933029267, 'n_estimators': 170}. Best is trial 7 with value: 24.31077269245627.\n",
      "[I 2025-04-23 22:14:04,805] Trial 9 finished with value: 24.991616766601553 and parameters: {'max_depth': 6, 'learning_rate': 0.2398175381030932, 'subsample': 0.7650706924019122, 'colsample_bytree': 0.765936459266448, 'n_estimators': 208}. Best is trial 7 with value: 24.31077269245627.\n",
      "[I 2025-04-23 22:14:09,081] Trial 10 finished with value: 21.958155497111033 and parameters: {'max_depth': 12, 'learning_rate': 0.05660318471026241, 'subsample': 0.9872034900562991, 'colsample_bytree': 0.8431558669336778, 'n_estimators': 427}. Best is trial 10 with value: 21.958155497111033.\n",
      "[I 2025-04-23 22:14:13,379] Trial 11 finished with value: 27.626639964285612 and parameters: {'max_depth': 12, 'learning_rate': 0.054923982663691105, 'subsample': 0.9930948014443352, 'colsample_bytree': 0.8637220888384405, 'n_estimators': 428}. Best is trial 10 with value: 21.958155497111033.\n",
      "[I 2025-04-23 22:14:14,651] Trial 12 finished with value: 26.22381197332602 and parameters: {'max_depth': 3, 'learning_rate': 0.0973128269589512, 'subsample': 0.9916607261635332, 'colsample_bytree': 0.8575655751567525, 'n_estimators': 404}. Best is trial 10 with value: 21.958155497111033.\n",
      "[I 2025-04-23 22:14:18,523] Trial 13 finished with value: 41.19465624683761 and parameters: {'max_depth': 12, 'learning_rate': 0.04233242065701128, 'subsample': 0.9114516237900929, 'colsample_bytree': 0.7141356950175104, 'n_estimators': 397}. Best is trial 10 with value: 21.958155497111033.\n",
      "[I 2025-04-23 22:14:22,501] Trial 14 finished with value: 35.650795186723485 and parameters: {'max_depth': 9, 'learning_rate': 0.17134843421570337, 'subsample': 0.9301242076662639, 'colsample_bytree': 0.960842639162276, 'n_estimators': 489}. Best is trial 10 with value: 21.958155497111033.\n",
      "[I 2025-04-23 22:14:23,454] Trial 15 finished with value: 24.124976945218418 and parameters: {'max_depth': 10, 'learning_rate': 0.06239332828289721, 'subsample': 0.9529554606940833, 'colsample_bytree': 0.8054532343721534, 'n_estimators': 118}. Best is trial 10 with value: 21.958155497111033.\n",
      "[I 2025-04-23 22:14:24,270] Trial 16 finished with value: 48.743924930340086 and parameters: {'max_depth': 11, 'learning_rate': 0.04197866733538863, 'subsample': 0.7013102614803629, 'colsample_bytree': 0.8328719222125048, 'n_estimators': 108}. Best is trial 10 with value: 21.958155497111033.\n",
      "[I 2025-04-23 22:14:25,124] Trial 17 finished with value: 30.711851169587543 and parameters: {'max_depth': 10, 'learning_rate': 0.07746864337577605, 'subsample': 0.9789460517368466, 'colsample_bytree': 0.9270071065064194, 'n_estimators': 103}. Best is trial 10 with value: 21.958155497111033.\n",
      "[I 2025-04-23 22:14:27,276] Trial 18 finished with value: 26.840513539301167 and parameters: {'max_depth': 11, 'learning_rate': 0.027002171078928702, 'subsample': 0.855658199155451, 'colsample_bytree': 0.8138312259538433, 'n_estimators': 262}. Best is trial 10 with value: 21.958155497111033.\n",
      "[I 2025-04-23 22:14:28,445] Trial 19 finished with value: 21.66636466918402 and parameters: {'max_depth': 9, 'learning_rate': 0.052856911798152016, 'subsample': 0.9477586280978673, 'colsample_bytree': 0.9136872016011686, 'n_estimators': 151}. Best is trial 19 with value: 21.66636466918402.\n",
      "[I 2025-04-23 22:14:30,384] Trial 20 finished with value: 30.75029146448469 and parameters: {'max_depth': 8, 'learning_rate': 0.04228012894287536, 'subsample': 0.8725583315149537, 'colsample_bytree': 0.9156056371495817, 'n_estimators': 269}. Best is trial 19 with value: 21.66636466918402.\n",
      "[I 2025-04-23 22:14:31,645] Trial 21 finished with value: 26.161824248119455 and parameters: {'max_depth': 10, 'learning_rate': 0.0641344927286041, 'subsample': 0.9487329801608205, 'colsample_bytree': 0.8041418325300822, 'n_estimators': 153}. Best is trial 19 with value: 21.66636466918402.\n",
      "[I 2025-04-23 22:14:32,708] Trial 22 finished with value: 28.540469589823786 and parameters: {'max_depth': 9, 'learning_rate': 0.08871201168540883, 'subsample': 0.9552739489708957, 'colsample_bytree': 0.9038612358622798, 'n_estimators': 133}. Best is trial 19 with value: 21.66636466918402.\n",
      "[I 2025-04-23 22:14:34,759] Trial 23 finished with value: 22.814704944935766 and parameters: {'max_depth': 11, 'learning_rate': 0.052895633667229484, 'subsample': 0.9968565855193335, 'colsample_bytree': 0.9626791961392157, 'n_estimators': 227}. Best is trial 19 with value: 21.66636466918402.\n",
      "[I 2025-04-23 22:14:37,213] Trial 24 finished with value: 33.747747867484634 and parameters: {'max_depth': 11, 'learning_rate': 0.03271740377138435, 'subsample': 0.7794219896712993, 'colsample_bytree': 0.9656711050324565, 'n_estimators': 289}. Best is trial 19 with value: 21.66636466918402.\n",
      "[I 2025-04-23 22:14:38,911] Trial 25 finished with value: 25.73970465219622 and parameters: {'max_depth': 12, 'learning_rate': 0.017894651102789212, 'subsample': 0.8777965995694519, 'colsample_bytree': 0.9934040664441134, 'n_estimators': 232}. Best is trial 19 with value: 21.66636466918402.\n",
      "[I 2025-04-23 22:14:40,436] Trial 26 finished with value: 21.55825816725512 and parameters: {'max_depth': 11, 'learning_rate': 0.0493166827749273, 'subsample': 0.9833794319232929, 'colsample_bytree': 0.9409312138452102, 'n_estimators': 173}. Best is trial 26 with value: 21.55825816725512.\n",
      "[I 2025-04-23 22:14:41,583] Trial 27 finished with value: 71.30843789721165 and parameters: {'max_depth': 8, 'learning_rate': 0.12136144200901745, 'subsample': 0.5068421906078195, 'colsample_bytree': 0.9311466865694544, 'n_estimators': 159}. Best is trial 26 with value: 21.55825816725512.\n",
      "[I 2025-04-23 22:14:45,858] Trial 28 finished with value: 28.397035181818854 and parameters: {'max_depth': 12, 'learning_rate': 0.03682417126010743, 'subsample': 0.9511407296684479, 'colsample_bytree': 0.8746913193811573, 'n_estimators': 446}. Best is trial 26 with value: 21.55825816725512.\n",
      "[I 2025-04-23 22:14:48,817] Trial 29 finished with value: 60.92067492715395 and parameters: {'max_depth': 9, 'learning_rate': 0.10482251209479536, 'subsample': 0.6194545943896477, 'colsample_bytree': 0.8982998555716658, 'n_estimators': 369}. Best is trial 26 with value: 21.55825816725512.\n",
      "→ Best params: {'max_depth': 11, 'learning_rate': 0.0493166827749273, 'subsample': 0.9833794319232929, 'colsample_bytree': 0.9409312138452102, 'n_estimators': 173}\n",
      "Hold-out (6 mo): MAE=13443615, MAPE=12.81%\n"
     ]
    },
    {
     "name": "stderr",
     "output_type": "stream",
     "text": [
      "[I 2025-04-23 22:14:49,828] A new study created in memory with name: no-name-fb705fcf-bd56-4286-826e-df174c8a8228\n"
     ]
    },
    {
     "name": "stdout",
     "output_type": "stream",
     "text": [
      "Saved tuned model → Region_M-O_xgb_model.pkl\n",
      "\n",
      "=== Region: Region Nord ===\n"
     ]
    },
    {
     "data": {
      "application/vnd.jupyter.widget-view+json": {
       "model_id": "da1ab828e1304998b35643db30aa446f",
       "version_major": 2,
       "version_minor": 0
      },
      "text/plain": [
       "  0%|          | 0/30 [00:00<?, ?it/s]"
      ]
     },
     "metadata": {},
     "output_type": "display_data"
    },
    {
     "name": "stdout",
     "output_type": "stream",
     "text": [
      "[I 2025-04-23 22:14:51,193] Trial 0 finished with value: 50.89417605875777 and parameters: {'max_depth': 4, 'learning_rate': 0.02959545863178666, 'subsample': 0.8753233980722956, 'colsample_bytree': 0.8049999216434196, 'n_estimators': 340}. Best is trial 0 with value: 50.89417605875777.\n",
      "[I 2025-04-23 22:14:51,859] Trial 1 finished with value: 72.1210022193715 and parameters: {'max_depth': 4, 'learning_rate': 0.14281064147564462, 'subsample': 0.5277908489963855, 'colsample_bytree': 0.8420234626376395, 'n_estimators': 164}. Best is trial 0 with value: 50.89417605875777.\n",
      "[I 2025-04-23 22:14:53,360] Trial 2 finished with value: 59.70162493839812 and parameters: {'max_depth': 3, 'learning_rate': 0.24346396681831342, 'subsample': 0.6135452508126125, 'colsample_bytree': 0.8961279067883712, 'n_estimators': 476}. Best is trial 0 with value: 50.89417605875777.\n",
      "[I 2025-04-23 22:14:56,262] Trial 3 finished with value: 76.75247822429685 and parameters: {'max_depth': 11, 'learning_rate': 0.05311462414569371, 'subsample': 0.877351270313581, 'colsample_bytree': 0.6294203850852937, 'n_estimators': 313}. Best is trial 0 with value: 50.89417605875777.\n",
      "[I 2025-04-23 22:14:57,085] Trial 4 finished with value: 68.18985183306224 and parameters: {'max_depth': 5, 'learning_rate': 0.01356738155486562, 'subsample': 0.6123554168106973, 'colsample_bytree': 0.5181988412330994, 'n_estimators': 169}. Best is trial 0 with value: 50.89417605875777.\n",
      "[I 2025-04-23 22:14:57,488] Trial 5 finished with value: 48.13870398169266 and parameters: {'max_depth': 3, 'learning_rate': 0.046538133283098575, 'subsample': 0.6694518381667347, 'colsample_bytree': 0.7868142037210822, 'n_estimators': 126}. Best is trial 5 with value: 48.13870398169266.\n",
      "[I 2025-04-23 22:14:59,614] Trial 6 finished with value: 76.8031855001766 and parameters: {'max_depth': 6, 'learning_rate': 0.027609492823300743, 'subsample': 0.6236243216041868, 'colsample_bytree': 0.5939357449851153, 'n_estimators': 379}. Best is trial 5 with value: 48.13870398169266.\n",
      "[I 2025-04-23 22:15:01,909] Trial 7 finished with value: 71.07901142421501 and parameters: {'max_depth': 11, 'learning_rate': 0.022900978332828156, 'subsample': 0.7550863012771017, 'colsample_bytree': 0.7172648796250009, 'n_estimators': 280}. Best is trial 5 with value: 48.13870398169266.\n",
      "[I 2025-04-23 22:15:04,351] Trial 8 finished with value: 69.51317689504467 and parameters: {'max_depth': 12, 'learning_rate': 0.022952851762320186, 'subsample': 0.8562115661298413, 'colsample_bytree': 0.5456590150307274, 'n_estimators': 284}. Best is trial 5 with value: 48.13870398169266.\n",
      "[I 2025-04-23 22:15:05,683] Trial 9 finished with value: 68.42378352820971 and parameters: {'max_depth': 3, 'learning_rate': 0.02841891276045839, 'subsample': 0.5814532680186135, 'colsample_bytree': 0.7295238190455615, 'n_estimators': 425}. Best is trial 5 with value: 48.13870398169266.\n",
      "[I 2025-04-23 22:15:06,443] Trial 10 finished with value: 51.77295074566933 and parameters: {'max_depth': 8, 'learning_rate': 0.09347914787479991, 'subsample': 0.982655889623349, 'colsample_bytree': 0.9526261270557905, 'n_estimators': 103}. Best is trial 5 with value: 48.13870398169266.\n",
      "[I 2025-04-23 22:15:07,827] Trial 11 finished with value: 46.465909396618635 and parameters: {'max_depth': 7, 'learning_rate': 0.06052133834234806, 'subsample': 0.7397984220597444, 'colsample_bytree': 0.8178467170907513, 'n_estimators': 212}. Best is trial 11 with value: 46.465909396618635.\n",
      "[I 2025-04-23 22:15:09,359] Trial 12 finished with value: 59.669264467196825 and parameters: {'max_depth': 8, 'learning_rate': 0.05953035936133635, 'subsample': 0.7325851757556886, 'colsample_bytree': 0.7994912654188003, 'n_estimators': 213}. Best is trial 11 with value: 46.465909396618635.\n",
      "[I 2025-04-23 22:15:10,018] Trial 13 finished with value: 52.353161778011554 and parameters: {'max_depth': 7, 'learning_rate': 0.07237946551637904, 'subsample': 0.7145471492816331, 'colsample_bytree': 0.6815556412498656, 'n_estimators': 100}. Best is trial 11 with value: 46.465909396618635.\n",
      "[I 2025-04-23 22:15:11,791] Trial 14 finished with value: 51.05340292640773 and parameters: {'max_depth': 9, 'learning_rate': 0.04499161312679164, 'subsample': 0.6804543669024201, 'colsample_bytree': 0.9033565017527099, 'n_estimators': 229}. Best is trial 11 with value: 46.465909396618635.\n",
      "[I 2025-04-23 22:15:12,797] Trial 15 finished with value: 73.5568822558426 and parameters: {'max_depth': 6, 'learning_rate': 0.12573884830491655, 'subsample': 0.7980175245035063, 'colsample_bytree': 0.9993674045636578, 'n_estimators': 174}. Best is trial 11 with value: 46.465909396618635.\n",
      "[I 2025-04-23 22:15:14,333] Trial 16 finished with value: 59.64752497167424 and parameters: {'max_depth': 9, 'learning_rate': 0.010541320175139254, 'subsample': 0.675726976742628, 'colsample_bytree': 0.7766593686205258, 'n_estimators': 228}. Best is trial 11 with value: 46.465909396618635.\n",
      "[I 2025-04-23 22:15:15,035] Trial 17 finished with value: 52.80054494011162 and parameters: {'max_depth': 5, 'learning_rate': 0.03902950010656318, 'subsample': 0.7900421722996027, 'colsample_bytree': 0.8737631813944349, 'n_estimators': 142}. Best is trial 11 with value: 46.465909396618635.\n",
      "[I 2025-04-23 22:15:17,271] Trial 18 finished with value: 76.63465069551818 and parameters: {'max_depth': 10, 'learning_rate': 0.08761596193469097, 'subsample': 0.9801184489463928, 'colsample_bytree': 0.6843956071691557, 'n_estimators': 253}. Best is trial 11 with value: 46.465909396618635.\n",
      "[I 2025-04-23 22:15:18,520] Trial 19 finished with value: 67.48873180699975 and parameters: {'max_depth': 7, 'learning_rate': 0.29844076024214805, 'subsample': 0.5293954873710134, 'colsample_bytree': 0.8204447021337367, 'n_estimators': 191}. Best is trial 11 with value: 46.465909396618635.\n",
      "[I 2025-04-23 22:15:19,258] Trial 20 finished with value: 47.64778248534437 and parameters: {'max_depth': 6, 'learning_rate': 0.14210260394137197, 'subsample': 0.6823457087105496, 'colsample_bytree': 0.7490520469507689, 'n_estimators': 128}. Best is trial 11 with value: 46.465909396618635.\n",
      "[I 2025-04-23 22:15:20,006] Trial 21 finished with value: 27.67126449345766 and parameters: {'max_depth': 6, 'learning_rate': 0.15525257752449304, 'subsample': 0.6621859047820191, 'colsample_bytree': 0.7580402811606807, 'n_estimators': 130}. Best is trial 21 with value: 27.67126449345766.\n",
      "[I 2025-04-23 22:15:20,843] Trial 22 finished with value: 74.3288146510505 and parameters: {'max_depth': 6, 'learning_rate': 0.18222687305679758, 'subsample': 0.7922001263528946, 'colsample_bytree': 0.7426379839168, 'n_estimators': 145}. Best is trial 21 with value: 27.67126449345766.\n",
      "[I 2025-04-23 22:15:22,138] Trial 23 finished with value: 35.45670451699238 and parameters: {'max_depth': 7, 'learning_rate': 0.1265030931051245, 'subsample': 0.7001207143903371, 'colsample_bytree': 0.6764274091046694, 'n_estimators': 198}. Best is trial 21 with value: 27.67126449345766.\n",
      "[I 2025-04-23 22:15:23,412] Trial 24 finished with value: 63.15510392978147 and parameters: {'max_depth': 7, 'learning_rate': 0.09474088722187554, 'subsample': 0.7488615972586736, 'colsample_bytree': 0.6561866169720071, 'n_estimators': 196}. Best is trial 21 with value: 27.67126449345766.\n",
      "[I 2025-04-23 22:15:25,300] Trial 25 finished with value: 57.1789990499374 and parameters: {'max_depth': 8, 'learning_rate': 0.1931064929435529, 'subsample': 0.8325376966784993, 'colsample_bytree': 0.8541721736611426, 'n_estimators': 256}. Best is trial 21 with value: 27.67126449345766.\n",
      "[I 2025-04-23 22:15:26,488] Trial 26 finished with value: 53.545621761186375 and parameters: {'max_depth': 5, 'learning_rate': 0.11096666553076641, 'subsample': 0.7127182276671821, 'colsample_bytree': 0.7004127669991025, 'n_estimators': 244}. Best is trial 21 with value: 27.67126449345766.\n",
      "[I 2025-04-23 22:15:28,127] Trial 27 finished with value: 56.24465096347765 and parameters: {'max_depth': 9, 'learning_rate': 0.07038096373926216, 'subsample': 0.6426815032537445, 'colsample_bytree': 0.612794835772999, 'n_estimators': 207}. Best is trial 21 with value: 27.67126449345766.\n",
      "[I 2025-04-23 22:15:30,289] Trial 28 finished with value: 56.30657169794153 and parameters: {'max_depth': 7, 'learning_rate': 0.18290760634468045, 'subsample': 0.565029750990164, 'colsample_bytree': 0.6473408313925224, 'n_estimators': 333}. Best is trial 21 with value: 27.67126449345766.\n",
      "[I 2025-04-23 22:15:30,988] Trial 29 finished with value: 84.11107970892782 and parameters: {'max_depth': 4, 'learning_rate': 0.22905528614722112, 'subsample': 0.9349042503826175, 'colsample_bytree': 0.5810707676274848, 'n_estimators': 173}. Best is trial 21 with value: 27.67126449345766.\n",
      "→ Best params: {'max_depth': 6, 'learning_rate': 0.15525257752449304, 'subsample': 0.6621859047820191, 'colsample_bytree': 0.7580402811606807, 'n_estimators': 130}\n",
      "Hold-out (6 mo): MAE=12009883, MAPE=7.59%\n"
     ]
    },
    {
     "name": "stderr",
     "output_type": "stream",
     "text": [
      "[I 2025-04-23 22:15:31,492] A new study created in memory with name: no-name-3c771c96-463d-4773-97c4-81be7326cbaf\n"
     ]
    },
    {
     "name": "stdout",
     "output_type": "stream",
     "text": [
      "Saved tuned model → Region_Nord_xgb_model.pkl\n",
      "\n",
      "=== Region: Region Süd ===\n"
     ]
    },
    {
     "data": {
      "application/vnd.jupyter.widget-view+json": {
       "model_id": "05a3989193aa45699cf9e4fbe24c36f0",
       "version_major": 2,
       "version_minor": 0
      },
      "text/plain": [
       "  0%|          | 0/30 [00:00<?, ?it/s]"
      ]
     },
     "metadata": {},
     "output_type": "display_data"
    },
    {
     "name": "stdout",
     "output_type": "stream",
     "text": [
      "[I 2025-04-23 22:15:32,665] Trial 0 finished with value: 67.87526968613058 and parameters: {'max_depth': 4, 'learning_rate': 0.021671276755740505, 'subsample': 0.506950236608732, 'colsample_bytree': 0.9414476000073193, 'n_estimators': 293}. Best is trial 0 with value: 67.87526968613058.\n",
      "[I 2025-04-23 22:15:34,461] Trial 1 finished with value: 119.50529543473412 and parameters: {'max_depth': 7, 'learning_rate': 0.22784715312857406, 'subsample': 0.6644411938392878, 'colsample_bytree': 0.7870902114834561, 'n_estimators': 277}. Best is trial 0 with value: 67.87526968613058.\n",
      "[I 2025-04-23 22:15:36,983] Trial 2 finished with value: 82.79661195574035 and parameters: {'max_depth': 6, 'learning_rate': 0.12145521735021095, 'subsample': 0.9248383096658235, 'colsample_bytree': 0.5366318370259475, 'n_estimators': 445}. Best is trial 0 with value: 67.87526968613058.\n",
      "[I 2025-04-23 22:15:39,799] Trial 3 finished with value: 112.77712769084332 and parameters: {'max_depth': 7, 'learning_rate': 0.16959280647287947, 'subsample': 0.5623209120212118, 'colsample_bytree': 0.6514584499301652, 'n_estimators': 437}. Best is trial 0 with value: 67.87526968613058.\n",
      "[I 2025-04-23 22:15:40,982] Trial 4 finished with value: 60.49417371092084 and parameters: {'max_depth': 7, 'learning_rate': 0.19846931413939325, 'subsample': 0.6517116987077167, 'colsample_bytree': 0.9977088737663529, 'n_estimators': 182}. Best is trial 4 with value: 60.49417371092084.\n",
      "[I 2025-04-23 22:15:42,861] Trial 5 finished with value: 69.78275769960872 and parameters: {'max_depth': 6, 'learning_rate': 0.021627852764036604, 'subsample': 0.5798024478550501, 'colsample_bytree': 0.7139754818386874, 'n_estimators': 334}. Best is trial 4 with value: 60.49417371092084.\n",
      "[I 2025-04-23 22:15:45,380] Trial 6 finished with value: 17.912526099479734 and parameters: {'max_depth': 11, 'learning_rate': 0.05319856474434476, 'subsample': 0.8935233204279036, 'colsample_bytree': 0.904048631730268, 'n_estimators': 282}. Best is trial 6 with value: 17.912526099479734.\n",
      "[I 2025-04-23 22:15:47,707] Trial 7 finished with value: 51.28775343864305 and parameters: {'max_depth': 6, 'learning_rate': 0.051169184481592106, 'subsample': 0.867614192229072, 'colsample_bytree': 0.6294651869388053, 'n_estimators': 412}. Best is trial 6 with value: 17.912526099479734.\n",
      "[I 2025-04-23 22:15:49,300] Trial 8 finished with value: 28.847042237179494 and parameters: {'max_depth': 4, 'learning_rate': 0.052606188002423476, 'subsample': 0.9752815267847004, 'colsample_bytree': 0.8486203849754002, 'n_estimators': 400}. Best is trial 6 with value: 17.912526099479734.\n",
      "[I 2025-04-23 22:15:50,218] Trial 9 finished with value: 60.67495016917537 and parameters: {'max_depth': 5, 'learning_rate': 0.045774183529984455, 'subsample': 0.7037557280236364, 'colsample_bytree': 0.6384034898024673, 'n_estimators': 189}. Best is trial 6 with value: 17.912526099479734.\n",
      "[I 2025-04-23 22:15:50,879] Trial 10 finished with value: 70.98100961764145 and parameters: {'max_depth': 12, 'learning_rate': 0.010120600639529756, 'subsample': 0.8131708564824237, 'colsample_bytree': 0.8771648925986231, 'n_estimators': 101}. Best is trial 6 with value: 17.912526099479734.\n",
      "[I 2025-04-23 22:15:54,380] Trial 11 finished with value: 35.1860968280041 and parameters: {'max_depth': 11, 'learning_rate': 0.08585308065747649, 'subsample': 0.9942874836970204, 'colsample_bytree': 0.8591469158204161, 'n_estimators': 371}. Best is trial 6 with value: 17.912526099479734.\n",
      "[I 2025-04-23 22:15:58,549] Trial 12 finished with value: 36.26127836553032 and parameters: {'max_depth': 10, 'learning_rate': 0.028257422230325752, 'subsample': 0.9806791780018467, 'colsample_bytree': 0.8266805371939958, 'n_estimators': 495}. Best is trial 6 with value: 17.912526099479734.\n",
      "[I 2025-04-23 22:16:00,380] Trial 13 finished with value: 26.95028189562828 and parameters: {'max_depth': 9, 'learning_rate': 0.07982841186613089, 'subsample': 0.8097531821568476, 'colsample_bytree': 0.9125559616741177, 'n_estimators': 227}. Best is trial 6 with value: 17.912526099479734.\n",
      "[I 2025-04-23 22:16:02,192] Trial 14 finished with value: 27.494019976165077 and parameters: {'max_depth': 9, 'learning_rate': 0.08818100210872211, 'subsample': 0.7874743105270658, 'colsample_bytree': 0.9325644377239608, 'n_estimators': 228}. Best is trial 6 with value: 17.912526099479734.\n",
      "[I 2025-04-23 22:16:04,075] Trial 15 finished with value: 18.665083979316645 and parameters: {'max_depth': 9, 'learning_rate': 0.07995844341830745, 'subsample': 0.8741632499074465, 'colsample_bytree': 0.9903947326399113, 'n_estimators': 236}. Best is trial 6 with value: 17.912526099479734.\n",
      "[I 2025-04-23 22:16:04,959] Trial 16 finished with value: 21.584332006599666 and parameters: {'max_depth': 9, 'learning_rate': 0.03446666803146988, 'subsample': 0.886576864160517, 'colsample_bytree': 0.9995404842543252, 'n_estimators': 125}. Best is trial 6 with value: 17.912526099479734.\n",
      "[I 2025-04-23 22:16:07,634] Trial 17 finished with value: 94.40772479063696 and parameters: {'max_depth': 12, 'learning_rate': 0.1292724955999326, 'subsample': 0.8692540292782893, 'colsample_bytree': 0.7820719725830418, 'n_estimators': 260}. Best is trial 6 with value: 17.912526099479734.\n",
      "[I 2025-04-23 22:16:10,612] Trial 18 finished with value: 38.53964649773045 and parameters: {'max_depth': 10, 'learning_rate': 0.29347702098951994, 'subsample': 0.7435458684948247, 'colsample_bytree': 0.9429485801506987, 'n_estimators': 334}. Best is trial 6 with value: 17.912526099479734.\n",
      "[I 2025-04-23 22:16:11,676] Trial 19 finished with value: 61.58935184386718 and parameters: {'max_depth': 11, 'learning_rate': 0.011391976691792562, 'subsample': 0.9213084570902577, 'colsample_bytree': 0.7145405605085559, 'n_estimators': 158}. Best is trial 6 with value: 17.912526099479734.\n",
      "[I 2025-04-23 22:16:14,059] Trial 20 finished with value: 15.408780571699188 and parameters: {'max_depth': 8, 'learning_rate': 0.06497391442732248, 'subsample': 0.9304562486887775, 'colsample_bytree': 0.9710093705748469, 'n_estimators': 328}. Best is trial 20 with value: 15.408780571699188.\n",
      "[I 2025-04-23 22:16:16,468] Trial 21 finished with value: 22.722930893651306 and parameters: {'max_depth': 8, 'learning_rate': 0.07279527311847263, 'subsample': 0.92935572968077, 'colsample_bytree': 0.9725343655872695, 'n_estimators': 332}. Best is trial 20 with value: 15.408780571699188.\n",
      "[I 2025-04-23 22:16:18,229] Trial 22 finished with value: 20.391645472355496 and parameters: {'max_depth': 8, 'learning_rate': 0.03809598530033882, 'subsample': 0.8349105761248727, 'colsample_bytree': 0.9214868316353693, 'n_estimators': 247}. Best is trial 20 with value: 15.408780571699188.\n",
      "[I 2025-04-23 22:16:20,956] Trial 23 finished with value: 27.599224487526424 and parameters: {'max_depth': 10, 'learning_rate': 0.06722148932850018, 'subsample': 0.9454874225391027, 'colsample_bytree': 0.8931263008712909, 'n_estimators': 314}. Best is trial 20 with value: 15.408780571699188.\n",
      "[I 2025-04-23 22:16:24,494] Trial 24 finished with value: 14.51955904038013 and parameters: {'max_depth': 11, 'learning_rate': 0.10453123839715116, 'subsample': 0.8909455042231725, 'colsample_bytree': 0.970936594102775, 'n_estimators': 371}. Best is trial 24 with value: 14.51955904038013.\n",
      "[I 2025-04-23 22:16:28,177] Trial 25 finished with value: 27.90792318985989 and parameters: {'max_depth': 11, 'learning_rate': 0.11439834456195741, 'subsample': 0.7535620146970299, 'colsample_bytree': 0.9615065674773455, 'n_estimators': 385}. Best is trial 24 with value: 14.51955904038013.\n",
      "[I 2025-04-23 22:16:29,327] Trial 26 finished with value: 58.97610293753447 and parameters: {'max_depth': 3, 'learning_rate': 0.1088137437904546, 'subsample': 0.8995568771460729, 'colsample_bytree': 0.8075149991966711, 'n_estimators': 363}. Best is trial 24 with value: 14.51955904038013.\n",
      "[I 2025-04-23 22:16:32,990] Trial 27 finished with value: 25.34645437887106 and parameters: {'max_depth': 12, 'learning_rate': 0.14742439945269553, 'subsample': 0.8336815192243698, 'colsample_bytree': 0.9098858073395583, 'n_estimators': 355}. Best is trial 24 with value: 14.51955904038013.\n",
      "[I 2025-04-23 22:16:37,535] Trial 28 finished with value: 30.005262730028956 and parameters: {'max_depth': 11, 'learning_rate': 0.061408301326230215, 'subsample': 0.9600353447069825, 'colsample_bytree': 0.8770660232644449, 'n_estimators': 479}. Best is trial 24 with value: 14.51955904038013.\n",
      "[I 2025-04-23 22:16:39,974] Trial 29 finished with value: 20.70704496790853 and parameters: {'max_depth': 10, 'learning_rate': 0.04111835092275066, 'subsample': 0.7573358861530365, 'colsample_bytree': 0.9604553485037856, 'n_estimators': 294}. Best is trial 24 with value: 14.51955904038013.\n",
      "→ Best params: {'max_depth': 11, 'learning_rate': 0.10453123839715116, 'subsample': 0.8909455042231725, 'colsample_bytree': 0.970936594102775, 'n_estimators': 371}\n",
      "Hold-out (6 mo): MAE=7485421, MAPE=5.77%\n"
     ]
    },
    {
     "name": "stderr",
     "output_type": "stream",
     "text": [
      "[I 2025-04-23 22:16:42,349] A new study created in memory with name: no-name-c5e84db0-1595-48e2-9f32-201c004ad98d\n"
     ]
    },
    {
     "name": "stdout",
     "output_type": "stream",
     "text": [
      "Saved tuned model → Region_Süd_xgb_model.pkl\n",
      "\n",
      "=== Region: Region West ===\n"
     ]
    },
    {
     "data": {
      "application/vnd.jupyter.widget-view+json": {
       "model_id": "577166a068be40009418e882dbd8363f",
       "version_major": 2,
       "version_minor": 0
      },
      "text/plain": [
       "  0%|          | 0/30 [00:00<?, ?it/s]"
      ]
     },
     "metadata": {},
     "output_type": "display_data"
    },
    {
     "name": "stdout",
     "output_type": "stream",
     "text": [
      "[I 2025-04-23 22:16:44,704] Trial 0 finished with value: 41.077699130927705 and parameters: {'max_depth': 5, 'learning_rate': 0.06913550822111443, 'subsample': 0.7415358681942342, 'colsample_bytree': 0.9967955683173302, 'n_estimators': 486}. Best is trial 0 with value: 41.077699130927705.\n",
      "[I 2025-04-23 22:16:47,803] Trial 1 finished with value: 44.08416902995683 and parameters: {'max_depth': 9, 'learning_rate': 0.010552508652871903, 'subsample': 0.6896242804396344, 'colsample_bytree': 0.7248186622214439, 'n_estimators': 436}. Best is trial 0 with value: 41.077699130927705.\n",
      "[I 2025-04-23 22:16:49,237] Trial 2 finished with value: 49.50057797136626 and parameters: {'max_depth': 6, 'learning_rate': 0.050568986796494304, 'subsample': 0.706774557046695, 'colsample_bytree': 0.8406581453680968, 'n_estimators': 253}. Best is trial 0 with value: 41.077699130927705.\n",
      "[I 2025-04-23 22:16:50,242] Trial 3 finished with value: 54.17720257391199 and parameters: {'max_depth': 4, 'learning_rate': 0.013082756568711941, 'subsample': 0.5776218664694441, 'colsample_bytree': 0.9122037119015705, 'n_estimators': 252}. Best is trial 0 with value: 41.077699130927705.\n",
      "[I 2025-04-23 22:16:51,827] Trial 4 finished with value: 47.53112964329777 and parameters: {'max_depth': 6, 'learning_rate': 0.08753461702680285, 'subsample': 0.8636830845342615, 'colsample_bytree': 0.5743399651781049, 'n_estimators': 279}. Best is trial 0 with value: 41.077699130927705.\n",
      "[I 2025-04-23 22:16:52,692] Trial 5 finished with value: 51.319643430841836 and parameters: {'max_depth': 8, 'learning_rate': 0.025010481866136382, 'subsample': 0.5724182748075721, 'colsample_bytree': 0.9202048382273984, 'n_estimators': 133}. Best is trial 0 with value: 41.077699130927705.\n",
      "[I 2025-04-23 22:16:54,550] Trial 6 finished with value: 49.45750225786614 and parameters: {'max_depth': 7, 'learning_rate': 0.08278723325306375, 'subsample': 0.5846317496054316, 'colsample_bytree': 0.6179164372009454, 'n_estimators': 288}. Best is trial 0 with value: 41.077699130927705.\n",
      "[I 2025-04-23 22:16:55,790] Trial 7 finished with value: 50.54276815310087 and parameters: {'max_depth': 5, 'learning_rate': 0.0257910711080558, 'subsample': 0.6429036201086838, 'colsample_bytree': 0.8919111236315201, 'n_estimators': 256}. Best is trial 0 with value: 41.077699130927705.\n",
      "[I 2025-04-23 22:16:59,357] Trial 8 finished with value: 59.1934515765206 and parameters: {'max_depth': 11, 'learning_rate': 0.020827107723654315, 'subsample': 0.5239884254181586, 'colsample_bytree': 0.701886502172472, 'n_estimators': 448}. Best is trial 0 with value: 41.077699130927705.\n",
      "[I 2025-04-23 22:17:02,755] Trial 9 finished with value: 39.072151737335986 and parameters: {'max_depth': 11, 'learning_rate': 0.05634714457088084, 'subsample': 0.943845716549764, 'colsample_bytree': 0.647333012658081, 'n_estimators': 363}. Best is trial 9 with value: 39.072151737335986.\n",
      "[I 2025-04-23 22:17:06,676] Trial 10 finished with value: 43.29979902292022 and parameters: {'max_depth': 12, 'learning_rate': 0.27519077849172696, 'subsample': 0.9884300550963927, 'colsample_bytree': 0.5258484500860722, 'n_estimators': 369}. Best is trial 9 with value: 39.072151737335986.\n",
      "[I 2025-04-23 22:17:08,263] Trial 11 finished with value: 47.84223989752868 and parameters: {'max_depth': 3, 'learning_rate': 0.14868271098983982, 'subsample': 0.8254502852960827, 'colsample_bytree': 0.9984286242859624, 'n_estimators': 498}. Best is trial 9 with value: 39.072151737335986.\n",
      "[I 2025-04-23 22:17:11,432] Trial 12 finished with value: 47.83517834367267 and parameters: {'max_depth': 10, 'learning_rate': 0.05824475593222322, 'subsample': 0.8108987118681197, 'colsample_bytree': 0.6590097928758336, 'n_estimators': 364}. Best is trial 9 with value: 39.072151737335986.\n",
      "[I 2025-04-23 22:17:14,204] Trial 13 finished with value: 15.467182661175096 and parameters: {'max_depth': 8, 'learning_rate': 0.0439142671138736, 'subsample': 0.99732580604031, 'colsample_bytree': 0.7911552618190798, 'n_estimators': 380}. Best is trial 13 with value: 15.467182661175096.\n",
      "[I 2025-04-23 22:17:17,152] Trial 14 finished with value: 18.43592213282562 and parameters: {'max_depth': 9, 'learning_rate': 0.03715228481966768, 'subsample': 0.9997310114473448, 'colsample_bytree': 0.7960129301762587, 'n_estimators': 371}. Best is trial 13 with value: 15.467182661175096.\n",
      "[I 2025-04-23 22:17:18,484] Trial 15 finished with value: 38.389515959395396 and parameters: {'max_depth': 8, 'learning_rate': 0.038914328129192634, 'subsample': 0.9103932653790121, 'colsample_bytree': 0.7928705415841293, 'n_estimators': 186}. Best is trial 13 with value: 15.467182661175096.\n",
      "[I 2025-04-23 22:17:21,610] Trial 16 finished with value: 19.28061098842427 and parameters: {'max_depth': 9, 'learning_rate': 0.03517738758418014, 'subsample': 0.9886919390438645, 'colsample_bytree': 0.7853633808049596, 'n_estimators': 394}. Best is trial 13 with value: 15.467182661175096.\n",
      "[I 2025-04-23 22:17:24,238] Trial 17 finished with value: 32.13131828716251 and parameters: {'max_depth': 9, 'learning_rate': 0.12546762579828546, 'subsample': 0.9044045253458453, 'colsample_bytree': 0.834787296822582, 'n_estimators': 325}. Best is trial 13 with value: 15.467182661175096.\n",
      "[I 2025-04-23 22:17:26,954] Trial 18 finished with value: 31.450787219960006 and parameters: {'max_depth': 7, 'learning_rate': 0.018531763164191424, 'subsample': 0.9417157151471325, 'colsample_bytree': 0.7796706111623679, 'n_estimators': 419}. Best is trial 13 with value: 15.467182661175096.\n",
      "[I 2025-04-23 22:17:29,702] Trial 19 finished with value: 42.6406667627283 and parameters: {'max_depth': 10, 'learning_rate': 0.03639892306067726, 'subsample': 0.8468854841280968, 'colsample_bytree': 0.8476850052245941, 'n_estimators': 328}. Best is trial 13 with value: 15.467182661175096.\n",
      "[I 2025-04-23 22:17:31,647] Trial 20 finished with value: 37.256907228339735 and parameters: {'max_depth': 10, 'learning_rate': 0.13524668128605696, 'subsample': 0.7835369880049676, 'colsample_bytree': 0.7344623925212928, 'n_estimators': 217}. Best is trial 13 with value: 15.467182661175096.\n",
      "[I 2025-04-23 22:17:34,860] Trial 21 finished with value: 16.730194038454577 and parameters: {'max_depth': 9, 'learning_rate': 0.03325234867748654, 'subsample': 0.9978826889080676, 'colsample_bytree': 0.7793119524740492, 'n_estimators': 405}. Best is trial 13 with value: 15.467182661175096.\n",
      "[I 2025-04-23 22:17:37,802] Trial 22 finished with value: 18.734853145096327 and parameters: {'max_depth': 8, 'learning_rate': 0.04318154466353247, 'subsample': 0.986670898781534, 'colsample_bytree': 0.7025017353478753, 'n_estimators': 403}. Best is trial 13 with value: 15.467182661175096.\n",
      "[I 2025-04-23 22:17:41,425] Trial 23 finished with value: 32.616556945377276 and parameters: {'max_depth': 9, 'learning_rate': 0.029993190596545184, 'subsample': 0.9290291417291725, 'colsample_bytree': 0.7704044322781385, 'n_estimators': 459}. Best is trial 13 with value: 15.467182661175096.\n",
      "[I 2025-04-23 22:17:43,552] Trial 24 finished with value: 30.225687751919708 and parameters: {'max_depth': 7, 'learning_rate': 0.01699776460114442, 'subsample': 0.8821583203854219, 'colsample_bytree': 0.8718414321629825, 'n_estimators': 330}. Best is trial 13 with value: 15.467182661175096.\n",
      "[I 2025-04-23 22:17:46,837] Trial 25 finished with value: 24.63927205439435 and parameters: {'max_depth': 11, 'learning_rate': 0.02777877192105659, 'subsample': 0.9610813591212484, 'colsample_bytree': 0.8131816461769661, 'n_estimators': 382}. Best is trial 13 with value: 15.467182661175096.\n",
      "[I 2025-04-23 22:17:49,316] Trial 26 finished with value: 19.9331882865707 and parameters: {'max_depth': 8, 'learning_rate': 0.046085002847611675, 'subsample': 0.9929087735254675, 'colsample_bytree': 0.9445538976591351, 'n_estimators': 342}. Best is trial 13 with value: 15.467182661175096.\n",
      "[I 2025-04-23 22:17:53,415] Trial 27 finished with value: 41.615372459543615 and parameters: {'max_depth': 10, 'learning_rate': 0.08780581276903578, 'subsample': 0.9062622560271008, 'colsample_bytree': 0.7617168025226803, 'n_estimators': 466}. Best is trial 13 with value: 15.467182661175096.\n",
      "[I 2025-04-23 22:17:56,894] Trial 28 finished with value: 26.51733555011104 and parameters: {'max_depth': 12, 'learning_rate': 0.01547094297388176, 'subsample': 0.9514263955095557, 'colsample_bytree': 0.6865599722500236, 'n_estimators': 427}. Best is trial 13 with value: 15.467182661175096.\n",
      "[I 2025-04-23 22:17:59,197] Trial 29 finished with value: 41.17957824631673 and parameters: {'max_depth': 6, 'learning_rate': 0.0678200163966048, 'subsample': 0.7597910842071456, 'colsample_bytree': 0.9581579712711822, 'n_estimators': 407}. Best is trial 13 with value: 15.467182661175096.\n",
      "→ Best params: {'max_depth': 8, 'learning_rate': 0.0439142671138736, 'subsample': 0.99732580604031, 'colsample_bytree': 0.7911552618190798, 'n_estimators': 380}\n",
      "Hold-out (6 mo): MAE=28383547, MAPE=14.30%\n"
     ]
    },
    {
     "name": "stderr",
     "output_type": "stream",
     "text": [
      "[I 2025-04-23 22:18:01,064] A new study created in memory with name: no-name-09206328-1da8-41fd-a88f-e4d4b6fe85dd\n"
     ]
    },
    {
     "name": "stdout",
     "output_type": "stream",
     "text": [
      "Saved tuned model → Region_West_xgb_model.pkl\n",
      "\n",
      "=== Region: Vertrieb M-O ===\n"
     ]
    },
    {
     "data": {
      "application/vnd.jupyter.widget-view+json": {
       "model_id": "06a7530ddfa9402f99f967caff8c67ba",
       "version_major": 2,
       "version_minor": 0
      },
      "text/plain": [
       "  0%|          | 0/30 [00:00<?, ?it/s]"
      ]
     },
     "metadata": {},
     "output_type": "display_data"
    },
    {
     "name": "stdout",
     "output_type": "stream",
     "text": [
      "[I 2025-04-23 22:18:04,716] Trial 0 finished with value: 93.00121620200684 and parameters: {'max_depth': 8, 'learning_rate': 0.022078481506036397, 'subsample': 0.6180140093157834, 'colsample_bytree': 0.6484304890416078, 'n_estimators': 500}. Best is trial 0 with value: 93.00121620200684.\n",
      "[I 2025-04-23 22:18:07,433] Trial 1 finished with value: 50.67502251413688 and parameters: {'max_depth': 7, 'learning_rate': 0.10329089452847351, 'subsample': 0.6127652988743824, 'colsample_bytree': 0.907500408251466, 'n_estimators': 416}. Best is trial 1 with value: 50.67502251413688.\n",
      "[I 2025-04-23 22:18:10,804] Trial 2 finished with value: 65.56145361623948 and parameters: {'max_depth': 11, 'learning_rate': 0.027023429322462832, 'subsample': 0.660966184861162, 'colsample_bytree': 0.8478555464352182, 'n_estimators': 368}. Best is trial 1 with value: 50.67502251413688.\n",
      "[I 2025-04-23 22:18:12,159] Trial 3 finished with value: 92.1754486275966 and parameters: {'max_depth': 4, 'learning_rate': 0.04546175660289955, 'subsample': 0.9333574486498732, 'colsample_bytree': 0.5193035821449264, 'n_estimators': 337}. Best is trial 1 with value: 50.67502251413688.\n",
      "[I 2025-04-23 22:18:14,316] Trial 4 finished with value: 98.5286948846513 and parameters: {'max_depth': 7, 'learning_rate': 0.040013485633594026, 'subsample': 0.704640466850792, 'colsample_bytree': 0.7661583238082181, 'n_estimators': 325}. Best is trial 1 with value: 50.67502251413688.\n",
      "[I 2025-04-23 22:18:15,593] Trial 5 finished with value: 113.821395182594 and parameters: {'max_depth': 10, 'learning_rate': 0.12338318750072985, 'subsample': 0.8278357911897586, 'colsample_bytree': 0.737488429192196, 'n_estimators': 139}. Best is trial 1 with value: 50.67502251413688.\n",
      "[I 2025-04-23 22:18:16,815] Trial 6 finished with value: 92.56186206404566 and parameters: {'max_depth': 5, 'learning_rate': 0.04795588623776005, 'subsample': 0.6833761270214335, 'colsample_bytree': 0.7291307657912085, 'n_estimators': 251}. Best is trial 1 with value: 50.67502251413688.\n",
      "[I 2025-04-23 22:18:18,910] Trial 7 finished with value: 96.12142866503063 and parameters: {'max_depth': 10, 'learning_rate': 0.019425751754226922, 'subsample': 0.845299517675751, 'colsample_bytree': 0.6348483852245643, 'n_estimators': 244}. Best is trial 1 with value: 50.67502251413688.\n",
      "[I 2025-04-23 22:18:21,088] Trial 8 finished with value: 58.597593448129544 and parameters: {'max_depth': 10, 'learning_rate': 0.014314202730880039, 'subsample': 0.6200384987806482, 'colsample_bytree': 0.9878793449229362, 'n_estimators': 280}. Best is trial 1 with value: 50.67502251413688.\n",
      "[I 2025-04-23 22:18:23,048] Trial 9 finished with value: 180.13910587706698 and parameters: {'max_depth': 7, 'learning_rate': 0.2738408936256016, 'subsample': 0.9649170768214765, 'colsample_bytree': 0.6529823538446953, 'n_estimators': 297}. Best is trial 1 with value: 50.67502251413688.\n",
      "[I 2025-04-23 22:18:24,488] Trial 10 finished with value: 45.38179959589824 and parameters: {'max_depth': 3, 'learning_rate': 0.12142011788677227, 'subsample': 0.5095239146379538, 'colsample_bytree': 0.98688890529422, 'n_estimators': 456}. Best is trial 10 with value: 45.38179959589824.\n",
      "[I 2025-04-23 22:18:25,950] Trial 11 finished with value: 33.73966312200474 and parameters: {'max_depth': 3, 'learning_rate': 0.11025244690870775, 'subsample': 0.5172588724396071, 'colsample_bytree': 0.9920209256907757, 'n_estimators': 463}. Best is trial 11 with value: 33.73966312200474.\n",
      "[I 2025-04-23 22:18:27,522] Trial 12 finished with value: 40.545735467197545 and parameters: {'max_depth': 3, 'learning_rate': 0.10543362102613053, 'subsample': 0.5108580133119099, 'colsample_bytree': 0.9870188192497041, 'n_estimators': 497}. Best is trial 11 with value: 33.73966312200474.\n",
      "[I 2025-04-23 22:18:29,047] Trial 13 finished with value: 95.61622532768972 and parameters: {'max_depth': 3, 'learning_rate': 0.21855691841780897, 'subsample': 0.5119571511744008, 'colsample_bytree': 0.8985746339747882, 'n_estimators': 492}. Best is trial 11 with value: 33.73966312200474.\n",
      "[I 2025-04-23 22:18:30,998] Trial 14 finished with value: 54.09175697992426 and parameters: {'max_depth': 5, 'learning_rate': 0.08532858369055109, 'subsample': 0.5320006266491505, 'colsample_bytree': 0.9195429670087473, 'n_estimators': 405}. Best is trial 11 with value: 33.73966312200474.\n",
      "[I 2025-04-23 22:18:33,162] Trial 15 finished with value: 78.19046151904716 and parameters: {'max_depth': 5, 'learning_rate': 0.18465648347930563, 'subsample': 0.5689147192438514, 'colsample_bytree': 0.9963664220298187, 'n_estimators': 439}. Best is trial 11 with value: 33.73966312200474.\n",
      "[I 2025-04-23 22:18:33,656] Trial 16 finished with value: 65.42533821335017 and parameters: {'max_depth': 3, 'learning_rate': 0.0739004293260989, 'subsample': 0.795429123047612, 'colsample_bytree': 0.8341810581701374, 'n_estimators': 152}. Best is trial 11 with value: 33.73966312200474.\n",
      "[I 2025-04-23 22:18:35,214] Trial 17 finished with value: 84.2948668995371 and parameters: {'max_depth': 4, 'learning_rate': 0.15541371068969556, 'subsample': 0.7450090758058506, 'colsample_bytree': 0.9336137304187347, 'n_estimators': 388}. Best is trial 11 with value: 33.73966312200474.\n",
      "[I 2025-04-23 22:18:37,869] Trial 18 finished with value: 69.42223504822753 and parameters: {'max_depth': 6, 'learning_rate': 0.06746472953236683, 'subsample': 0.5667091858227837, 'colsample_bytree': 0.8363128513408681, 'n_estimators': 462}. Best is trial 11 with value: 33.73966312200474.\n",
      "[I 2025-04-23 22:18:38,641] Trial 19 finished with value: 45.58897165173795 and parameters: {'max_depth': 4, 'learning_rate': 0.03299516231749978, 'subsample': 0.5747025671142021, 'colsample_bytree': 0.9494924609994644, 'n_estimators': 187}. Best is trial 11 with value: 33.73966312200474.\n",
      "[I 2025-04-23 22:18:41,259] Trial 20 finished with value: 74.02747186436751 and parameters: {'max_depth': 8, 'learning_rate': 0.010460046452381635, 'subsample': 0.8960105317669643, 'colsample_bytree': 0.87004677059794, 'n_estimators': 359}. Best is trial 11 with value: 33.73966312200474.\n",
      "[I 2025-04-23 22:18:42,733] Trial 21 finished with value: 51.38417977616524 and parameters: {'max_depth': 3, 'learning_rate': 0.13003012625739238, 'subsample': 0.5402232637327367, 'colsample_bytree': 0.9998837369730796, 'n_estimators': 466}. Best is trial 11 with value: 33.73966312200474.\n",
      "[I 2025-04-23 22:18:44,130] Trial 22 finished with value: 38.02338607682142 and parameters: {'max_depth': 3, 'learning_rate': 0.09989703492320239, 'subsample': 0.5134950515321695, 'colsample_bytree': 0.9668588106537742, 'n_estimators': 438}. Best is trial 11 with value: 33.73966312200474.\n",
      "[I 2025-04-23 22:18:45,850] Trial 23 finished with value: 43.1327095026252 and parameters: {'max_depth': 4, 'learning_rate': 0.0901569584723335, 'subsample': 0.5023442119380874, 'colsample_bytree': 0.9522705821116813, 'n_estimators': 426}. Best is trial 11 with value: 33.73966312200474.\n",
      "[I 2025-04-23 22:18:48,700] Trial 24 finished with value: 91.98064567237292 and parameters: {'max_depth': 6, 'learning_rate': 0.06237256811185495, 'subsample': 0.605743231925912, 'colsample_bytree': 0.7938706322835124, 'n_estimators': 500}. Best is trial 11 with value: 33.73966312200474.\n",
      "[I 2025-04-23 22:18:50,158] Trial 25 finished with value: 50.929819610943575 and parameters: {'max_depth': 3, 'learning_rate': 0.16347639028867383, 'subsample': 0.6532565158792034, 'colsample_bytree': 0.9551512856838221, 'n_estimators': 461}. Best is trial 11 with value: 33.73966312200474.\n",
      "[I 2025-04-23 22:18:52,069] Trial 26 finished with value: 115.68147771592749 and parameters: {'max_depth': 5, 'learning_rate': 0.29958932839754593, 'subsample': 0.5485800928037279, 'colsample_bytree': 0.8661231005739202, 'n_estimators': 392}. Best is trial 11 with value: 33.73966312200474.\n",
      "[I 2025-04-23 22:18:53,790] Trial 27 finished with value: 54.13160981668877 and parameters: {'max_depth': 4, 'learning_rate': 0.09942412377052819, 'subsample': 0.586842295500404, 'colsample_bytree': 0.9004512189954634, 'n_estimators': 429}. Best is trial 11 with value: 33.73966312200474.\n",
      "[I 2025-04-23 22:18:56,510] Trial 28 finished with value: 48.0270979531083 and parameters: {'max_depth': 6, 'learning_rate': 0.05726088268235747, 'subsample': 0.7173737615582427, 'colsample_bytree': 0.957987352923471, 'n_estimators': 474}. Best is trial 11 with value: 33.73966312200474.\n",
      "[I 2025-04-23 22:19:01,096] Trial 29 finished with value: 125.70747480270472 and parameters: {'max_depth': 12, 'learning_rate': 0.21289849003513808, 'subsample': 0.628338790861301, 'colsample_bytree': 0.8028081300008699, 'n_estimators': 444}. Best is trial 11 with value: 33.73966312200474.\n",
      "→ Best params: {'max_depth': 3, 'learning_rate': 0.11025244690870775, 'subsample': 0.5172588724396071, 'colsample_bytree': 0.9920209256907757, 'n_estimators': 463}\n",
      "Hold-out (6 mo): MAE=15687247, MAPE=6.97%\n"
     ]
    },
    {
     "name": "stderr",
     "output_type": "stream",
     "text": [
      "[I 2025-04-23 22:19:02,075] A new study created in memory with name: no-name-cf8f5bfe-1692-4b75-bdc9-24a1371439e3\n"
     ]
    },
    {
     "name": "stdout",
     "output_type": "stream",
     "text": [
      "Saved tuned model → Vertrieb_M-O_xgb_model.pkl\n",
      "\n",
      "=== Region: Vertrieb N-W ===\n"
     ]
    },
    {
     "data": {
      "application/vnd.jupyter.widget-view+json": {
       "model_id": "e898dae6d7b84b50bdcfe8225a30f638",
       "version_major": 2,
       "version_minor": 0
      },
      "text/plain": [
       "  0%|          | 0/30 [00:00<?, ?it/s]"
      ]
     },
     "metadata": {},
     "output_type": "display_data"
    },
    {
     "name": "stdout",
     "output_type": "stream",
     "text": [
      "[I 2025-04-23 22:19:03,450] Trial 0 finished with value: 114.13748993294382 and parameters: {'max_depth': 4, 'learning_rate': 0.03231974084393157, 'subsample': 0.9988442147551311, 'colsample_bytree': 0.5040561853158487, 'n_estimators': 342}. Best is trial 0 with value: 114.13748993294382.\n",
      "[I 2025-04-23 22:19:06,388] Trial 1 finished with value: 123.944411265862 and parameters: {'max_depth': 12, 'learning_rate': 0.011773648782812916, 'subsample': 0.7452254540287155, 'colsample_bytree': 0.5187562964899111, 'n_estimators': 332}. Best is trial 0 with value: 114.13748993294382.\n",
      "[I 2025-04-23 22:19:08,350] Trial 2 finished with value: 91.49216562980183 and parameters: {'max_depth': 6, 'learning_rate': 0.023816313744436688, 'subsample': 0.6722789767439398, 'colsample_bytree': 0.7651602824682704, 'n_estimators': 345}. Best is trial 2 with value: 91.49216562980183.\n",
      "[I 2025-04-23 22:19:09,421] Trial 3 finished with value: 87.58049776628006 and parameters: {'max_depth': 5, 'learning_rate': 0.01278567994312076, 'subsample': 0.9724350547600127, 'colsample_bytree': 0.8322709962352949, 'n_estimators': 219}. Best is trial 3 with value: 87.58049776628006.\n",
      "[I 2025-04-23 22:19:10,469] Trial 4 finished with value: 79.54658048300875 and parameters: {'max_depth': 8, 'learning_rate': 0.01456305625960587, 'subsample': 0.8398329791252723, 'colsample_bytree': 0.9452038324487412, 'n_estimators': 150}. Best is trial 4 with value: 79.54658048300875.\n",
      "[I 2025-04-23 22:19:11,445] Trial 5 finished with value: 130.46554340992157 and parameters: {'max_depth': 5, 'learning_rate': 0.07416155890576753, 'subsample': 0.7526600405998343, 'colsample_bytree': 0.5672796880284976, 'n_estimators': 196}. Best is trial 4 with value: 79.54658048300875.\n",
      "[I 2025-04-23 22:19:13,597] Trial 6 finished with value: 117.28610986013545 and parameters: {'max_depth': 5, 'learning_rate': 0.05603139630281028, 'subsample': 0.9883815989572989, 'colsample_bytree': 0.6337879662417694, 'n_estimators': 439}. Best is trial 4 with value: 79.54658048300875.\n",
      "[I 2025-04-23 22:19:15,124] Trial 7 finished with value: 122.14769874468448 and parameters: {'max_depth': 6, 'learning_rate': 0.12972552262090645, 'subsample': 0.58922216729167, 'colsample_bytree': 0.7373581161338227, 'n_estimators': 267}. Best is trial 4 with value: 79.54658048300875.\n",
      "[I 2025-04-23 22:19:17,007] Trial 8 finished with value: 78.94137999117429 and parameters: {'max_depth': 6, 'learning_rate': 0.06915714213135725, 'subsample': 0.7582977380800298, 'colsample_bytree': 0.854470248186009, 'n_estimators': 328}. Best is trial 8 with value: 78.94137999117429.\n",
      "[I 2025-04-23 22:19:18,382] Trial 9 finished with value: 112.76756091335865 and parameters: {'max_depth': 4, 'learning_rate': 0.015767754988149776, 'subsample': 0.7717364954207707, 'colsample_bytree': 0.5652194458074513, 'n_estimators': 344}. Best is trial 8 with value: 78.94137999117429.\n",
      "[I 2025-04-23 22:19:22,232] Trial 10 finished with value: 82.48408055711572 and parameters: {'max_depth': 9, 'learning_rate': 0.2644193038519773, 'subsample': 0.5273039553927679, 'colsample_bytree': 0.9988037645788006, 'n_estimators': 469}. Best is trial 8 with value: 78.94137999117429.\n",
      "[I 2025-04-23 22:19:23,045] Trial 11 finished with value: 66.62976712435302 and parameters: {'max_depth': 8, 'learning_rate': 0.10577276253264856, 'subsample': 0.869318779828726, 'colsample_bytree': 0.9417862860968813, 'n_estimators': 102}. Best is trial 11 with value: 66.62976712435302.\n",
      "[I 2025-04-23 22:19:23,961] Trial 12 finished with value: 102.16879316960281 and parameters: {'max_depth': 10, 'learning_rate': 0.11055679240817493, 'subsample': 0.8673829253252482, 'colsample_bytree': 0.8892029844660306, 'n_estimators': 100}. Best is trial 11 with value: 66.62976712435302.\n",
      "[I 2025-04-23 22:19:26,636] Trial 13 finished with value: 100.68198620554894 and parameters: {'max_depth': 7, 'learning_rate': 0.14840907484069943, 'subsample': 0.8971213599746231, 'colsample_bytree': 0.8433340209948263, 'n_estimators': 402}. Best is trial 11 with value: 66.62976712435302.\n",
      "[I 2025-04-23 22:19:28,847] Trial 14 finished with value: 60.953726560989004 and parameters: {'max_depth': 10, 'learning_rate': 0.040834359781266094, 'subsample': 0.6746748445365567, 'colsample_bytree': 0.9249188514255446, 'n_estimators': 266}. Best is trial 14 with value: 60.953726560989004.\n",
      "[I 2025-04-23 22:19:29,666] Trial 15 finished with value: 68.41072550245384 and parameters: {'max_depth': 11, 'learning_rate': 0.035852263219087945, 'subsample': 0.6534957053766227, 'colsample_bytree': 0.9420550045037617, 'n_estimators': 104}. Best is trial 14 with value: 60.953726560989004.\n",
      "[I 2025-04-23 22:19:31,794] Trial 16 finished with value: 79.41694478226371 and parameters: {'max_depth': 9, 'learning_rate': 0.21288052023098886, 'subsample': 0.6835779827620911, 'colsample_bytree': 0.9934270992550629, 'n_estimators': 254}. Best is trial 14 with value: 60.953726560989004.\n",
      "[I 2025-04-23 22:19:33,156] Trial 17 finished with value: 105.33403747568788 and parameters: {'max_depth': 10, 'learning_rate': 0.035378167264485914, 'subsample': 0.8242909741117173, 'colsample_bytree': 0.767419956104025, 'n_estimators': 159}. Best is trial 14 with value: 60.953726560989004.\n",
      "[I 2025-04-23 22:19:36,153] Trial 18 finished with value: 128.73001481682448 and parameters: {'max_depth': 8, 'learning_rate': 0.09856237349352948, 'subsample': 0.9200919369388111, 'colsample_bytree': 0.7064533826035161, 'n_estimators': 400}. Best is trial 14 with value: 60.953726560989004.\n",
      "[I 2025-04-23 22:19:38,521] Trial 19 finished with value: 56.92508939552145 and parameters: {'max_depth': 12, 'learning_rate': 0.022070638082453263, 'subsample': 0.6054889596730086, 'colsample_bytree': 0.9251635393763339, 'n_estimators': 278}. Best is trial 19 with value: 56.92508939552145.\n",
      "[I 2025-04-23 22:19:41,029] Trial 20 finished with value: 79.1100616784597 and parameters: {'max_depth': 12, 'learning_rate': 0.025463245677176404, 'subsample': 0.5919991825929953, 'colsample_bytree': 0.8894639398640678, 'n_estimators': 283}. Best is trial 19 with value: 56.92508939552145.\n",
      "[I 2025-04-23 22:19:43,186] Trial 21 finished with value: 62.368289601907826 and parameters: {'max_depth': 11, 'learning_rate': 0.04615458935668833, 'subsample': 0.6161997595039816, 'colsample_bytree': 0.9291478073024861, 'n_estimators': 234}. Best is trial 19 with value: 56.92508939552145.\n",
      "[I 2025-04-23 22:19:45,278] Trial 22 finished with value: 57.052445144683794 and parameters: {'max_depth': 11, 'learning_rate': 0.04804011990677685, 'subsample': 0.5774200561294865, 'colsample_bytree': 0.9011195070208503, 'n_estimators': 231}. Best is trial 19 with value: 56.92508939552145.\n",
      "[I 2025-04-23 22:19:46,637] Trial 23 finished with value: 106.01792579545135 and parameters: {'max_depth': 11, 'learning_rate': 0.02002270407576596, 'subsample': 0.5025091309595773, 'colsample_bytree': 0.7977703095550934, 'n_estimators': 180}. Best is trial 19 with value: 56.92508939552145.\n",
      "[I 2025-04-23 22:19:49,543] Trial 24 finished with value: 78.29642965662394 and parameters: {'max_depth': 12, 'learning_rate': 0.047873073963906845, 'subsample': 0.5479340853245701, 'colsample_bytree': 0.8940164027124862, 'n_estimators': 303}. Best is trial 19 with value: 56.92508939552145.\n",
      "[I 2025-04-23 22:19:51,441] Trial 25 finished with value: 56.95053138298655 and parameters: {'max_depth': 10, 'learning_rate': 0.026451644450938533, 'subsample': 0.7034797637223381, 'colsample_bytree': 0.977617114510557, 'n_estimators': 228}. Best is trial 19 with value: 56.92508939552145.\n",
      "[I 2025-04-23 22:19:53,122] Trial 26 finished with value: 63.70289888280468 and parameters: {'max_depth': 11, 'learning_rate': 0.019340149672665008, 'subsample': 0.6294265468632853, 'colsample_bytree': 0.9787784674659774, 'n_estimators': 212}. Best is trial 19 with value: 56.92508939552145.\n",
      "[I 2025-04-23 22:19:55,535] Trial 27 finished with value: 78.13741635701255 and parameters: {'max_depth': 9, 'learning_rate': 0.029154158386288126, 'subsample': 0.7109248906562928, 'colsample_bytree': 0.867227537750503, 'n_estimators': 299}. Best is trial 19 with value: 56.92508939552145.\n",
      "[I 2025-04-23 22:19:57,532] Trial 28 finished with value: 85.68497153559258 and parameters: {'max_depth': 12, 'learning_rate': 0.022915832464044224, 'subsample': 0.5444193153369314, 'colsample_bytree': 0.8027515858281117, 'n_estimators': 241}. Best is trial 19 with value: 56.92508939552145.\n",
      "[I 2025-04-23 22:19:58,653] Trial 29 finished with value: 60.34749828328123 and parameters: {'max_depth': 10, 'learning_rate': 0.02999420973849534, 'subsample': 0.5999973341626292, 'colsample_bytree': 0.9651798690309941, 'n_estimators': 144}. Best is trial 19 with value: 56.92508939552145.\n",
      "→ Best params: {'max_depth': 12, 'learning_rate': 0.022070638082453263, 'subsample': 0.6054889596730086, 'colsample_bytree': 0.9251635393763339, 'n_estimators': 278}\n",
      "Hold-out (6 mo): MAE=31671504, MAPE=10.22%\n"
     ]
    },
    {
     "name": "stderr",
     "output_type": "stream",
     "text": [
      "[I 2025-04-23 22:20:00,377] A new study created in memory with name: no-name-fc1f67c9-6438-482b-833e-0858fc13fca8\n"
     ]
    },
    {
     "name": "stdout",
     "output_type": "stream",
     "text": [
      "Saved tuned model → Vertrieb_N-W_xgb_model.pkl\n",
      "\n",
      "=== Region: Vertrieb S ===\n"
     ]
    },
    {
     "data": {
      "application/vnd.jupyter.widget-view+json": {
       "model_id": "ce5b1791fe174b5e9780260b9091d769",
       "version_major": 2,
       "version_minor": 0
      },
      "text/plain": [
       "  0%|          | 0/30 [00:00<?, ?it/s]"
      ]
     },
     "metadata": {},
     "output_type": "display_data"
    },
    {
     "name": "stdout",
     "output_type": "stream",
     "text": [
      "[I 2025-04-23 22:20:01,732] Trial 0 finished with value: 71.41541303824212 and parameters: {'max_depth': 5, 'learning_rate': 0.031433126892498525, 'subsample': 0.8875265361388862, 'colsample_bytree': 0.7474245111734532, 'n_estimators': 270}. Best is trial 0 with value: 71.41541303824212.\n",
      "[I 2025-04-23 22:20:03,224] Trial 1 finished with value: 122.98258271020158 and parameters: {'max_depth': 10, 'learning_rate': 0.014111562380875742, 'subsample': 0.9342457401862911, 'colsample_bytree': 0.5261071547880248, 'n_estimators': 172}. Best is trial 0 with value: 71.41541303824212.\n",
      "[I 2025-04-23 22:20:04,977] Trial 2 finished with value: 100.13265560500507 and parameters: {'max_depth': 5, 'learning_rate': 0.010684133533383952, 'subsample': 0.6299016567928021, 'colsample_bytree': 0.5566180888061507, 'n_estimators': 358}. Best is trial 0 with value: 71.41541303824212.\n",
      "[I 2025-04-23 22:20:06,372] Trial 3 finished with value: 78.5702493027464 and parameters: {'max_depth': 12, 'learning_rate': 0.18911106352261634, 'subsample': 0.942516900560856, 'colsample_bytree': 0.9764236331414062, 'n_estimators': 133}. Best is trial 0 with value: 71.41541303824212.\n",
      "[I 2025-04-23 22:20:08,510] Trial 4 finished with value: 70.22798248930341 and parameters: {'max_depth': 6, 'learning_rate': 0.03856558148494657, 'subsample': 0.7294276068353668, 'colsample_bytree': 0.7194464324983187, 'n_estimators': 382}. Best is trial 4 with value: 70.22798248930341.\n",
      "[I 2025-04-23 22:20:10,295] Trial 5 finished with value: 125.95178096831125 and parameters: {'max_depth': 6, 'learning_rate': 0.17041684458678755, 'subsample': 0.5214786466099253, 'colsample_bytree': 0.5019281874141952, 'n_estimators': 314}. Best is trial 4 with value: 70.22798248930341.\n",
      "[I 2025-04-23 22:20:10,729] Trial 6 finished with value: 103.69974180896834 and parameters: {'max_depth': 4, 'learning_rate': 0.1179237994011962, 'subsample': 0.9643977332818394, 'colsample_bytree': 0.8045329505086365, 'n_estimators': 106}. Best is trial 4 with value: 70.22798248930341.\n",
      "[I 2025-04-23 22:20:13,621] Trial 7 finished with value: 39.13510489362008 and parameters: {'max_depth': 12, 'learning_rate': 0.05238843669140279, 'subsample': 0.5897266398212602, 'colsample_bytree': 0.9749687528756628, 'n_estimators': 295}. Best is trial 7 with value: 39.13510489362008.\n",
      "[I 2025-04-23 22:20:15,314] Trial 8 finished with value: 112.76611616813805 and parameters: {'max_depth': 4, 'learning_rate': 0.10834656756804549, 'subsample': 0.561964108469428, 'colsample_bytree': 0.5042507524423888, 'n_estimators': 425}. Best is trial 7 with value: 39.13510489362008.\n",
      "[I 2025-04-23 22:20:17,362] Trial 9 finished with value: 102.75234068023796 and parameters: {'max_depth': 8, 'learning_rate': 0.015737114733521945, 'subsample': 0.869881360036343, 'colsample_bytree': 0.5958423857591922, 'n_estimators': 277}. Best is trial 7 with value: 39.13510489362008.\n",
      "[I 2025-04-23 22:20:22,486] Trial 10 finished with value: 34.69017212383578 and parameters: {'max_depth': 12, 'learning_rate': 0.06514952881609515, 'subsample': 0.6961981573282449, 'colsample_bytree': 0.9735332147292097, 'n_estimators': 494}. Best is trial 10 with value: 34.69017212383578.\n",
      "[I 2025-04-23 22:20:27,478] Trial 11 finished with value: 39.21517478254049 and parameters: {'max_depth': 12, 'learning_rate': 0.05898031796677023, 'subsample': 0.692562235647266, 'colsample_bytree': 0.9982217394976731, 'n_estimators': 484}. Best is trial 10 with value: 34.69017212383578.\n",
      "[I 2025-04-23 22:20:29,519] Trial 12 finished with value: 39.141531313873124 and parameters: {'max_depth': 10, 'learning_rate': 0.06867327384800681, 'subsample': 0.6507579638611751, 'colsample_bytree': 0.9076895484459317, 'n_estimators': 232}. Best is trial 10 with value: 34.69017212383578.\n",
      "[I 2025-04-23 22:20:33,877] Trial 13 finished with value: 48.69534248349809 and parameters: {'max_depth': 10, 'learning_rate': 0.026039333282737998, 'subsample': 0.8131132154333709, 'colsample_bytree': 0.8701100635013951, 'n_estimators': 496}. Best is trial 10 with value: 34.69017212383578.\n",
      "[I 2025-04-23 22:20:35,868] Trial 14 finished with value: 44.683090588401434 and parameters: {'max_depth': 12, 'learning_rate': 0.08227251545802311, 'subsample': 0.5956791713560747, 'colsample_bytree': 0.9192914108469481, 'n_estimators': 200}. Best is trial 10 with value: 34.69017212383578.\n",
      "[I 2025-04-23 22:20:38,998] Trial 15 finished with value: 52.834603717169706 and parameters: {'max_depth': 8, 'learning_rate': 0.04381638092161483, 'subsample': 0.7787728231506733, 'colsample_bytree': 0.8457182828216622, 'n_estimators': 426}. Best is trial 10 with value: 34.69017212383578.\n",
      "[I 2025-04-23 22:20:42,188] Trial 16 finished with value: 84.46978654592742 and parameters: {'max_depth': 11, 'learning_rate': 0.28032154387778285, 'subsample': 0.6754225526839042, 'colsample_bytree': 0.9420461791001453, 'n_estimators': 328}. Best is trial 10 with value: 34.69017212383578.\n",
      "[I 2025-04-23 22:20:45,460] Trial 17 finished with value: 85.51641997102422 and parameters: {'max_depth': 9, 'learning_rate': 0.02087989650670383, 'subsample': 0.5008560245158777, 'colsample_bytree': 0.6934922246218158, 'n_estimators': 417}. Best is trial 10 with value: 34.69017212383578.\n",
      "[I 2025-04-23 22:20:47,859] Trial 18 finished with value: 59.868666751574445 and parameters: {'max_depth': 11, 'learning_rate': 0.05172822549655343, 'subsample': 0.5990302413586045, 'colsample_bytree': 0.8009151831678507, 'n_estimators': 258}. Best is trial 10 with value: 34.69017212383578.\n",
      "[I 2025-04-23 22:20:51,255] Trial 19 finished with value: 101.81920412555117 and parameters: {'max_depth': 11, 'learning_rate': 0.08274610371208836, 'subsample': 0.729614053386413, 'colsample_bytree': 0.6486432174531016, 'n_estimators': 349}. Best is trial 10 with value: 34.69017212383578.\n",
      "[I 2025-04-23 22:20:53,065] Trial 20 finished with value: 99.04420038032849 and parameters: {'max_depth': 9, 'learning_rate': 0.12285726710687665, 'subsample': 0.5621694931918824, 'colsample_bytree': 0.8601434207596189, 'n_estimators': 222}. Best is trial 10 with value: 34.69017212383578.\n",
      "[I 2025-04-23 22:20:55,093] Trial 21 finished with value: 37.929593552512635 and parameters: {'max_depth': 10, 'learning_rate': 0.07281393972664396, 'subsample': 0.6628845641226816, 'colsample_bytree': 0.9209111437282135, 'n_estimators': 230}. Best is trial 10 with value: 34.69017212383578.\n",
      "[I 2025-04-23 22:20:56,670] Trial 22 finished with value: 37.296816754993536 and parameters: {'max_depth': 12, 'learning_rate': 0.036272889681108894, 'subsample': 0.6942167601915649, 'colsample_bytree': 0.9530633501249547, 'n_estimators': 176}. Best is trial 10 with value: 34.69017212383578.\n",
      "[I 2025-04-23 22:20:58,230] Trial 23 finished with value: 33.82415624238993 and parameters: {'max_depth': 11, 'learning_rate': 0.03438452015290388, 'subsample': 0.7752244078235211, 'colsample_bytree': 0.943474482120753, 'n_estimators': 178}. Best is trial 23 with value: 33.82415624238993.\n",
      "[I 2025-04-23 22:20:59,578] Trial 24 finished with value: 33.263084327008094 and parameters: {'max_depth': 11, 'learning_rate': 0.03180767279537483, 'subsample': 0.7852609660486133, 'colsample_bytree': 0.9415534505659158, 'n_estimators': 156}. Best is trial 24 with value: 33.263084327008094.\n",
      "[I 2025-04-23 22:21:00,835] Trial 25 finished with value: 56.95302379451291 and parameters: {'max_depth': 11, 'learning_rate': 0.02622889833362703, 'subsample': 0.8096076961075551, 'colsample_bytree': 0.8934507426417704, 'n_estimators': 149}. Best is trial 24 with value: 33.263084327008094.\n",
      "[I 2025-04-23 22:21:01,662] Trial 26 finished with value: 81.73774095069852 and parameters: {'max_depth': 9, 'learning_rate': 0.020674726115471637, 'subsample': 0.7656209552038081, 'colsample_bytree': 0.8357765973738011, 'n_estimators': 109}. Best is trial 24 with value: 33.263084327008094.\n",
      "[I 2025-04-23 22:21:02,914] Trial 27 finished with value: 65.36319839795642 and parameters: {'max_depth': 7, 'learning_rate': 0.029651432388124403, 'subsample': 0.8155579748906657, 'colsample_bytree': 0.7996792037777698, 'n_estimators': 189}. Best is trial 24 with value: 33.263084327008094.\n",
      "[I 2025-04-23 22:21:04,090] Trial 28 finished with value: 33.31821435218573 and parameters: {'max_depth': 11, 'learning_rate': 0.0423775447376626, 'subsample': 0.8637007473472886, 'colsample_bytree': 0.9943662653254977, 'n_estimators': 134}. Best is trial 24 with value: 33.263084327008094.\n",
      "[I 2025-04-23 22:21:04,537] Trial 29 finished with value: 41.411662773094186 and parameters: {'max_depth': 3, 'learning_rate': 0.021901121517095716, 'subsample': 0.8741897411713591, 'colsample_bytree': 0.9957318677705753, 'n_estimators': 136}. Best is trial 24 with value: 33.263084327008094.\n",
      "→ Best params: {'max_depth': 11, 'learning_rate': 0.03180767279537483, 'subsample': 0.7852609660486133, 'colsample_bytree': 0.9415534505659158, 'n_estimators': 156}\n",
      "Hold-out (6 mo): MAE=21595636, MAPE=7.92%\n",
      "Saved tuned model → Vertrieb_S_xgb_model.pkl\n"
     ]
    }
   ],
   "source": [
    "# train_pipeline\n",
    "\n",
    "import os\n",
    "import pandas as pd\n",
    "import numpy as np\n",
    "from xgboost import XGBRegressor\n",
    "from sklearn.metrics import mean_absolute_error\n",
    "import joblib\n",
    "import optuna\n",
    "\n",
    "# ----------------------------\n",
    "# Helpers\n",
    "# ----------------------------\n",
    "def mean_absolute_percentage_error(y_true, y_pred):\n",
    "    y_true, y_pred = np.array(y_true), np.array(y_pred)\n",
    "    mask = y_true != 0\n",
    "    return np.mean(np.abs((y_true[mask] - y_pred[mask]) / y_true[mask])) * 100\n",
    "\n",
    "def time_series_splits(df, n_folds=3, val_size=6):\n",
    "    \"\"\"\n",
    "    Yield (train_df, val_df) pairs by sliding a window of length val_size\n",
    "    backwards through the data, with n_folds total validations.\n",
    "    \"\"\"\n",
    "    n = len(df)\n",
    "    for i in range(n_folds):\n",
    "        train_end = n - (n_folds - i) * val_size\n",
    "        val_start = train_end\n",
    "        val_end   = val_start + val_size\n",
    "        if val_end > n:\n",
    "            break\n",
    "        yield df.iloc[:train_end], df.iloc[val_start:val_end]\n",
    "\n",
    "def load_monthly_all(data_path):\n",
    "    df = pd.read_csv(data_path, low_memory=False)\n",
    "    df[\"Kalendertag\"]    = pd.to_datetime(df[\"Kalendertag\"], errors=\"coerce\")\n",
    "    df[\"Eintrittsdatum\"] = pd.to_datetime(df[\"Eintrittsdatum\"], errors=\"coerce\")\n",
    "    df = df[df[\"Kalendertag\"] >= df[\"Eintrittsdatum\"]]\n",
    "    df[\"JahrMonat\"]      = pd.to_datetime(df[\"Kalendertag\"].dt.to_period(\"M\").astype(str))\n",
    "    return (\n",
    "        df\n",
    "        .groupby([\"Region\",\"JahrMonat\"])\n",
    "        .agg({\n",
    "            \"BIWNAV AV Neug Wesu\":\"sum\",\n",
    "            \"Anz. NeuFamilien\":   \"sum\",\n",
    "            \"Anz. Neukunden\":     \"sum\",\n",
    "            \"P AV neu\":           \"sum\",\n",
    "            \"SpB AV\":             \"sum\",\n",
    "        })\n",
    "        .reset_index()\n",
    "        .rename(columns={\"BIWNAV AV Neug Wesu\":\"target\"})\n",
    "        .sort_values([\"Region\",\"JahrMonat\"])\n",
    "        .reset_index(drop=True)\n",
    "    )\n",
    "\n",
    "# -----------------------------------\n",
    "# Main orchestration\n",
    "# -----------------------------------\n",
    "def main(TEST_SIZE=6, N_TRIALS=30):\n",
    "    DATA_PATH = \"../data/4_PrognoseCase_AV_NG_-_Daten.csv\"\n",
    "    MODEL_DIR = \"../models\"\n",
    "\n",
    "    os.makedirs(MODEL_DIR, exist_ok=True)\n",
    "    monthly_all = load_monthly_all(DATA_PATH)\n",
    "\n",
    "    for region, region_df in monthly_all.groupby(\"Region\"):\n",
    "        print(f\"\\n=== Region: {region} ===\")\n",
    "        m = region_df.sort_values(\"JahrMonat\").copy()\n",
    "\n",
    "        # Feature engineering\n",
    "        m[\"month\"]     = m[\"JahrMonat\"].dt.month\n",
    "        m[\"month_sin\"] = np.sin(2 * np.pi * m[\"month\"] / 12)\n",
    "        m[\"month_cos\"] = np.cos(2 * np.pi * m[\"month\"] / 12)\n",
    "        for col in [\"Anz. NeuFamilien\",\"Anz. Neukunden\",\"P AV neu\",\"SpB AV\"]:\n",
    "            m[f\"{col}_lag1\"] = m[col].shift(1)\n",
    "            m[f\"{col}_lag2\"] = m[col].shift(2)\n",
    "        m[\"target_t_plus_1\"] = m[\"target\"].shift(-1)\n",
    "\n",
    "        # Drop raw + helper cols\n",
    "        m = m.drop(columns=[\n",
    "            \"month\",\"Anz. NeuFamilien\",\"Anz. Neukunden\",\"P AV neu\",\"SpB AV\",\"target\"\n",
    "        ]).reset_index(drop=True)\n",
    "\n",
    "        full_df = m.dropna(subset=[\"target_t_plus_1\"])\n",
    "        if len(full_df) < TEST_SIZE + 6:\n",
    "            print(\"→ Skipping (not enough history).\")\n",
    "            continue\n",
    "\n",
    "        train_val_df = full_df.iloc[:-TEST_SIZE]\n",
    "        test_df      = full_df.iloc[-TEST_SIZE:]\n",
    "        feature_cols = [\n",
    "            c for c in full_df.columns\n",
    "            if c not in [\"Region\",\"JahrMonat\",\"target_t_plus_1\"]\n",
    "        ]\n",
    "\n",
    "        # Optuna objective: minimize avg MAPE over 3‐fold TS CV\n",
    "        def objective(trial):\n",
    "            params = {\n",
    "                \"objective\":        \"reg:squarederror\",\n",
    "                \"random_state\":     42,\n",
    "                \"verbosity\":        0,\n",
    "                \"max_depth\":        trial.suggest_int(\"max_depth\", 3, 12),\n",
    "                \"learning_rate\":    trial.suggest_float(\"learning_rate\", 0.01, 0.3, log=True),\n",
    "                \"subsample\":        trial.suggest_float(\"subsample\", 0.5, 1.0),\n",
    "                \"colsample_bytree\": trial.suggest_float(\"colsample_bytree\", 0.5, 1.0),\n",
    "                \"n_estimators\":     trial.suggest_int(\"n_estimators\", 100, 500),\n",
    "            }\n",
    "            mape_scores = []\n",
    "            for tr_df, val_df in time_series_splits(train_val_df, n_folds=3, val_size=TEST_SIZE):\n",
    "                X_tr, y_tr   = tr_df[feature_cols], tr_df[\"target_t_plus_1\"]\n",
    "                X_val, y_val = val_df[feature_cols], val_df[\"target_t_plus_1\"]\n",
    "                model = XGBRegressor(**params)\n",
    "                model.fit(X_tr, y_tr)\n",
    "                preds = model.predict(X_val)\n",
    "                mape_scores.append(mean_absolute_percentage_error(y_val, preds))\n",
    "            return float(np.mean(mape_scores))\n",
    "\n",
    "        study = optuna.create_study(direction=\"minimize\")\n",
    "        study.optimize(objective, n_trials=N_TRIALS, show_progress_bar=True)\n",
    "        best_params = study.best_trial.params\n",
    "        print(\"→ Best params:\", best_params)\n",
    "\n",
    "        # Train on train_val, evaluate hold-out\n",
    "        tuned = {\n",
    "            **best_params,\n",
    "            \"objective\":    \"reg:squarederror\",\n",
    "            \"random_state\": 42,\n",
    "            \"verbosity\":    0,\n",
    "        }\n",
    "        prod_model = XGBRegressor(**tuned)\n",
    "        prod_model.fit(train_val_df[feature_cols], train_val_df[\"target_t_plus_1\"])\n",
    "        test_preds = prod_model.predict(test_df[feature_cols])\n",
    "        test_mae   = mean_absolute_error(test_df[\"target_t_plus_1\"], test_preds)\n",
    "        test_mape  = mean_absolute_percentage_error(test_df[\"target_t_plus_1\"], test_preds)\n",
    "        print(f\"Hold-out ({TEST_SIZE} mo): MAE={test_mae:.0f}, MAPE={test_mape:.2f}%\")\n",
    "\n",
    "        # Retrain on full data & save\n",
    "        final_model = XGBRegressor(**tuned)\n",
    "        final_model.fit(full_df[feature_cols], full_df[\"target_t_plus_1\"])\n",
    "        fn = f\"{region.replace(' ','_')}_xgb_model.pkl\"\n",
    "        joblib.dump(final_model, os.path.join(MODEL_DIR, fn))\n",
    "        print(f\"Saved tuned model → {fn}\")\n",
    "\n",
    "\n",
    "if __name__ == \"__main__\":\n",
    "    main()\n"
   ]
  },
  {
   "cell_type": "code",
   "execution_count": 2,
   "metadata": {},
   "outputs": [
    {
     "name": "stdout",
     "output_type": "stream",
     "text": [
      "\n",
      "▶ Region M-O forecast:\n",
      "   2025-01: 7,660,856\n",
      "   2025-02: 20,838,056\n",
      "   2025-03: 27,552,576\n",
      "   2025-04: 25,816,902\n",
      "   2025-05: 24,766,528\n",
      "   2025-06: 25,035,296\n",
      "   2025-07: 28,090,496\n",
      "\n",
      "▶ Region Nord forecast:\n",
      "   2025-01: 27,254,244\n",
      "   2025-02: 38,389,000\n",
      "   2025-03: 43,481,520\n",
      "   2025-04: 56,661,388\n",
      "   2025-05: 66,474,236\n",
      "   2025-06: 78,716,296\n",
      "   2025-07: 81,416,560\n",
      "\n",
      "▶ Region Süd forecast:\n",
      "   2025-01: 15,537,219\n",
      "   2025-02: 21,990,030\n",
      "   2025-03: 22,179,284\n",
      "   2025-04: 28,705,136\n",
      "   2025-05: 38,455,448\n",
      "   2025-06: 72,721,016\n",
      "   2025-07: 75,737,368\n",
      "\n",
      "▶ Region West forecast:\n",
      "   2025-01: 14,437,361\n",
      "   2025-02: 30,039,400\n",
      "   2025-03: 32,408,718\n",
      "   2025-04: 44,663,032\n",
      "   2025-05: 50,143,964\n",
      "   2025-06: 71,562,448\n",
      "   2025-07: 75,342,464\n",
      "\n",
      "▶ Vertrieb M-O forecast:\n",
      "   2025-01: 29,480,394\n",
      "   2025-02: 43,541,052\n",
      "   2025-03: 67,059,416\n",
      "   2025-04: 99,413,216\n",
      "   2025-05: 157,285,248\n",
      "   2025-06: 179,251,968\n",
      "   2025-07: 193,097,344\n",
      "\n",
      "▶ Vertrieb N-W forecast:\n",
      "   2025-01: 71,063,360\n",
      "   2025-02: 93,868,376\n",
      "   2025-03: 89,051,720\n",
      "   2025-04: 149,198,064\n",
      "   2025-05: 216,004,880\n",
      "   2025-06: 226,206,384\n",
      "   2025-07: 229,167,424\n",
      "\n",
      "▶ Vertrieb S forecast:\n",
      "   2025-01: 33,284,024\n",
      "   2025-02: 42,797,296\n",
      "   2025-03: 94,579,392\n",
      "   2025-04: 128,621,952\n",
      "   2025-05: 179,664,048\n",
      "   2025-06: 195,448,928\n",
      "   2025-07: 212,736,992\n"
     ]
    }
   ],
   "source": [
    "# predict_pipeline\n",
    "\n",
    "import os\n",
    "import pandas as pd\n",
    "import numpy as np\n",
    "import joblib\n",
    "\n",
    "def mean_absolute_percentage_error(y_true, y_pred):\n",
    "    y_true, y_pred = np.array(y_true), np.array(y_pred)\n",
    "    mask = y_true != 0\n",
    "    return np.mean(np.abs((y_true[mask] - y_pred[mask]) / y_true[mask])) * 100\n",
    "\n",
    "def load_monthly_all(data_path):\n",
    "    df = pd.read_csv(data_path, low_memory=False)\n",
    "    df[\"Kalendertag\"]    = pd.to_datetime(df[\"Kalendertag\"], errors=\"coerce\")\n",
    "    df[\"Eintrittsdatum\"] = pd.to_datetime(df[\"Eintrittsdatum\"], errors=\"coerce\")\n",
    "    df = df[df[\"Kalendertag\"] >= df[\"Eintrittsdatum\"]]\n",
    "    df[\"JahrMonat\"] = pd.to_datetime(df[\"Kalendertag\"].dt.to_period(\"M\").astype(str))\n",
    "    return (\n",
    "        df\n",
    "        .groupby([\"Region\",\"JahrMonat\"])\n",
    "        .agg({\n",
    "            \"BIWNAV AV Neug Wesu\":\"sum\",\n",
    "            \"Anz. NeuFamilien\":   \"sum\",\n",
    "            \"Anz. Neukunden\":     \"sum\",\n",
    "            \"P AV neu\":           \"sum\",\n",
    "            \"SpB AV\":             \"sum\",\n",
    "        })\n",
    "        .reset_index()\n",
    "        .rename(columns={\"BIWNAV AV Neug Wesu\":\"target\"})\n",
    "        .sort_values([\"Region\",\"JahrMonat\"])\n",
    "        .reset_index(drop=True)\n",
    "    )\n",
    "\n",
    "def make_features(monthly):\n",
    "    m = monthly.copy()\n",
    "    # time features\n",
    "    m[\"month\"]     = m[\"JahrMonat\"].dt.month\n",
    "    m[\"month_sin\"] = np.sin(2*np.pi*m[\"month\"]/12)\n",
    "    m[\"month_cos\"] = np.cos(2*np.pi*m[\"month\"]/12)\n",
    "    # exogenous lags\n",
    "    for col in [\"Anz. NeuFamilien\",\"Anz. Neukunden\",\"P AV neu\",\"SpB AV\"]:\n",
    "        m[f\"{col}_lag1\"] = m[col].shift(1)\n",
    "        m[f\"{col}_lag2\"] = m[col].shift(2)\n",
    "    # shifted target\n",
    "    m[\"target_t\"]        = m[\"target\"]\n",
    "    m[\"target_t_plus_1\"] = m[\"target\"].shift(-1)\n",
    "    # drop exactly as in training\n",
    "    m = m.drop(columns=[\n",
    "        \"month\",\n",
    "        \"Anz. NeuFamilien\",\"Anz. Neukunden\",\"P AV neu\",\"SpB AV\",\n",
    "        \"target\"\n",
    "    ])\n",
    "    return m.reset_index(drop=True)\n",
    "\n",
    "def forecast_region(region, model_path, raw_df, n_periods=7):\n",
    "    model = joblib.load(model_path)\n",
    "    history = raw_df.copy().reset_index(drop=True)\n",
    "    forecasts = []\n",
    "\n",
    "    for _ in range(n_periods):\n",
    "        feat_df = make_features(history)\n",
    "        feature_cols = [\n",
    "            c for c in feat_df.columns\n",
    "            if c not in [\"Region\",\"JahrMonat\",\"target_t\",\"target_t_plus_1\"]\n",
    "        ]\n",
    "\n",
    "        X_last_df = feat_df[feature_cols].iloc[[-1]]\n",
    "        y_hat     = model.predict(X_last_df)[0]\n",
    "\n",
    "        next_month = history[\"JahrMonat\"].iloc[-1] + pd.DateOffset(months=1)\n",
    "        forecasts.append((next_month, y_hat))\n",
    "\n",
    "        # append new raw row\n",
    "        last = history.iloc[-1]\n",
    "        new_raw = {\n",
    "            \"Region\":            last[\"Region\"],\n",
    "            \"JahrMonat\":         next_month,\n",
    "            \"target\":            y_hat,\n",
    "            \"Anz. NeuFamilien\":  last[\"Anz. NeuFamilien\"],\n",
    "            \"Anz. Neukunden\":    last[\"Anz. Neukunden\"],\n",
    "            \"P AV neu\":          last[\"P AV neu\"],\n",
    "            \"SpB AV\":            last[\"SpB AV\"],\n",
    "        }\n",
    "        history = pd.concat([history, pd.DataFrame([new_raw])], ignore_index=True)\n",
    "\n",
    "    return forecasts\n",
    "\n",
    "if __name__ == \"__main__\":\n",
    "    DATA_PATH = \"../data/4_PrognoseCase_AV_NG_-_Daten.csv\"\n",
    "    MODEL_DIR = \"../models\"\n",
    "    N_PERIODS = 7\n",
    "\n",
    "    monthly_all = load_monthly_all(DATA_PATH)\n",
    "\n",
    "    for region in monthly_all[\"Region\"].unique():\n",
    "        # look for the XGB model filename, not RF\n",
    "        fname = f\"{region.replace(' ', '_')}_xgb_model.pkl\"\n",
    "        model_path = os.path.join(MODEL_DIR, fname)\n",
    "\n",
    "        if not os.path.isfile(model_path):\n",
    "            print(f\"→ No XGB model for region '{region}', skipping.\")\n",
    "            continue\n",
    "\n",
    "        raw = monthly_all[monthly_all[\"Region\"] == region][[\n",
    "            \"Region\",\"JahrMonat\",\"target\",\n",
    "            \"Anz. NeuFamilien\",\"Anz. Neukunden\",\"P AV neu\",\"SpB AV\"\n",
    "        ]]\n",
    "\n",
    "        fc = forecast_region(region, model_path, raw, n_periods=N_PERIODS)\n",
    "        print(f\"\\n▶ {region} forecast:\")\n",
    "        for dt, val in fc:\n",
    "            print(f\"   {dt.strftime('%Y-%m')}: {val:,.0f}\")\n"
   ]
  },
  {
   "cell_type": "code",
   "execution_count": null,
   "metadata": {},
   "outputs": [],
   "source": []
  }
 ],
 "metadata": {
  "kernelspec": {
   "display_name": ".venv",
   "language": "python",
   "name": "python3"
  },
  "language_info": {
   "codemirror_mode": {
    "name": "ipython",
    "version": 3
   },
   "file_extension": ".py",
   "mimetype": "text/x-python",
   "name": "python",
   "nbconvert_exporter": "python",
   "pygments_lexer": "ipython3",
   "version": "3.10.16"
  }
 },
 "nbformat": 4,
 "nbformat_minor": 2
}
